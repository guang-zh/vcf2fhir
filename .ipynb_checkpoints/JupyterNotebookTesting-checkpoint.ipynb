{
 "cells": [
  {
   "cell_type": "code",
   "execution_count": 2,
   "metadata": {},
   "outputs": [
    {
     "name": "stdout",
     "output_type": "stream",
     "text": [
      "Requirement already satisfied: cython in c:\\programdata\\anaconda3\\lib\\site-packages (0.29.21)\n"
     ]
    }
   ],
   "source": [
    "!pip install cython"
   ]
  },
  {
   "cell_type": "code",
   "execution_count": 3,
   "metadata": {},
   "outputs": [
    {
     "name": "stdout",
     "output_type": "stream",
     "text": [
      "Requirement already satisfied: wheel in c:\\programdata\\anaconda3\\lib\\site-packages (0.35.1)\n"
     ]
    }
   ],
   "source": [
    "!pip install wheel"
   ]
  },
  {
   "cell_type": "code",
   "execution_count": 17,
   "metadata": {},
   "outputs": [],
   "source": [
    "#!pip install vcf2fhir # installed using Git Bash"
   ]
  },
  {
   "cell_type": "code",
   "execution_count": 10,
   "metadata": {},
   "outputs": [
    {
     "name": "stdout",
     "output_type": "stream",
     "text": [
      "Collecting pyvcf\n",
      "  Using cached PyVCF-0.6.8.tar.gz (34 kB)\n",
      "Requirement already satisfied: setuptools in c:\\programdata\\anaconda3\\lib\\site-packages (from pyvcf) (50.3.1.post20201107)\n",
      "Building wheels for collected packages: pyvcf\n",
      "  Building wheel for pyvcf (setup.py): started\n",
      "  Building wheel for pyvcf (setup.py): finished with status 'done'\n",
      "  Created wheel for pyvcf: filename=PyVCF-0.6.8-cp38-cp38-win_amd64.whl size=58757 sha256=cd3f81d8d122a195c0454099b07c3668f0f275497a5710cc3ccdd8a825bfe98e\n",
      "  Stored in directory: c:\\users\\1\\appdata\\local\\pip\\cache\\wheels\\f0\\3e\\15\\c1865f9a071eacc7fc702e9c7d25fc752fe5e30a82d0dd405d\n",
      "Successfully built pyvcf\n",
      "Installing collected packages: pyvcf\n",
      "Successfully installed pyvcf-0.6.8\n"
     ]
    }
   ],
   "source": [
    "!pip install pyvcf"
   ]
  },
  {
   "cell_type": "code",
   "execution_count": 15,
   "metadata": {},
   "outputs": [
    {
     "name": "stdout",
     "output_type": "stream",
     "text": [
      "Collecting fhirclient\n",
      "  Using cached fhirclient-3.2.0-py2.py3-none-any.whl (550 kB)\n",
      "Requirement already satisfied: requests in c:\\programdata\\anaconda3\\lib\\site-packages (from fhirclient) (2.24.0)\n",
      "Collecting isodate\n",
      "  Using cached isodate-0.6.0-py2.py3-none-any.whl (45 kB)\n",
      "Requirement already satisfied: chardet<4,>=3.0.2 in c:\\programdata\\anaconda3\\lib\\site-packages (from requests->fhirclient) (3.0.4)\n",
      "Requirement already satisfied: idna<3,>=2.5 in c:\\programdata\\anaconda3\\lib\\site-packages (from requests->fhirclient) (2.10)\n",
      "Requirement already satisfied: urllib3!=1.25.0,!=1.25.1,<1.26,>=1.21.1 in c:\\programdata\\anaconda3\\lib\\site-packages (from requests->fhirclient) (1.25.11)\n",
      "Requirement already satisfied: certifi>=2017.4.17 in c:\\programdata\\anaconda3\\lib\\site-packages (from requests->fhirclient) (2020.6.20)\n",
      "Requirement already satisfied: six in c:\\programdata\\anaconda3\\lib\\site-packages (from isodate->fhirclient) (1.15.0)\n",
      "Installing collected packages: isodate, fhirclient\n",
      "Successfully installed fhirclient-3.2.0 isodate-0.6.0\n"
     ]
    }
   ],
   "source": [
    "! pip install fhirclient"
   ]
  },
  {
   "cell_type": "code",
   "execution_count": 13,
   "metadata": {},
   "outputs": [
    {
     "name": "stdout",
     "output_type": "stream",
     "text": [
      "Collecting pyranges\n",
      "  Using cached pyranges-0.0.96.tar.gz (675 kB)\n",
      "Requirement already satisfied: cython in c:\\programdata\\anaconda3\\lib\\site-packages (from pyranges) (0.29.21)\n",
      "Requirement already satisfied: pandas in c:\\programdata\\anaconda3\\lib\\site-packages (from pyranges) (1.1.3)\n",
      "Collecting ncls>=0.0.50\n",
      "  Using cached ncls-0.0.57.tar.gz (465 kB)\n",
      "Collecting tabulate\n",
      "  Using cached tabulate-0.8.9-py3-none-any.whl (25 kB)\n",
      "Collecting sorted_nearest>=0.0.30\n",
      "  Using cached sorted_nearest-0.0.32.tar.gz (1.2 MB)\n",
      "Collecting pyrle\n",
      "  Using cached pyrle-0.0.32.tar.gz (352 kB)\n",
      "Requirement already satisfied: natsort in c:\\programdata\\anaconda3\\lib\\site-packages (from pyranges) (7.1.0)\n",
      "Requirement already satisfied: python-dateutil>=2.7.3 in c:\\programdata\\anaconda3\\lib\\site-packages (from pandas->pyranges) (2.8.1)\n",
      "Requirement already satisfied: pytz>=2017.2 in c:\\programdata\\anaconda3\\lib\\site-packages (from pandas->pyranges) (2020.1)\n",
      "Requirement already satisfied: numpy>=1.15.4 in c:\\programdata\\anaconda3\\lib\\site-packages (from pandas->pyranges) (1.19.2)\n",
      "Requirement already satisfied: six>=1.5 in c:\\programdata\\anaconda3\\lib\\site-packages (from python-dateutil>=2.7.3->pandas->pyranges) (1.15.0)\n",
      "Building wheels for collected packages: pyranges, ncls, sorted-nearest, pyrle\n",
      "  Building wheel for pyranges (setup.py): started\n",
      "  Building wheel for pyranges (setup.py): finished with status 'done'\n",
      "  Created wheel for pyranges: filename=pyranges-0.0.96-py3-none-any.whl size=689017 sha256=19ff86bd302acc0ce630e4cafa05570f4062eb71da3d5680973f2f1be706a31a\n",
      "  Stored in directory: c:\\users\\1\\appdata\\local\\pip\\cache\\wheels\\1b\\b3\\27\\d66ab67ee0db05f8d6cce80fe9cce345de9c62d6d3812bd6b4\n",
      "  Building wheel for ncls (setup.py): started\n",
      "  Building wheel for ncls (setup.py): finished with status 'done'\n",
      "  Created wheel for ncls: filename=ncls-0.0.57-cp38-cp38-win_amd64.whl size=784986 sha256=ac32ca4ab8f4dc7a1c5e065c6dce4224b1cd6549aeed6fcae0423852c9d4a472\n",
      "  Stored in directory: c:\\users\\1\\appdata\\local\\pip\\cache\\wheels\\5c\\7c\\4a\\4029c6d1351e4e5edb0f297518521e8463903ea2bbc2d2d955\n",
      "  Building wheel for sorted-nearest (setup.py): started\n",
      "  Building wheel for sorted-nearest (setup.py): finished with status 'done'\n",
      "  Created wheel for sorted-nearest: filename=sorted_nearest-0.0.32-cp38-cp38-win_amd64.whl size=2090952 sha256=2b92061fe78405968868b899dc6928b0a0de25578a30d88018d8031e17621896\n",
      "  Stored in directory: c:\\users\\1\\appdata\\local\\pip\\cache\\wheels\\0a\\5c\\74\\ad303d4c98b418d5ebc1fd8fffbf7dda8e9722a108c6d315aa\n",
      "  Building wheel for pyrle (setup.py): started\n",
      "  Building wheel for pyrle (setup.py): finished with status 'done'\n",
      "  Created wheel for pyrle: filename=pyrle-0.0.32-cp38-cp38-win_amd64.whl size=587322 sha256=f0b90f88edbfc7bf0bfc80f49fa9e518dbb32a4a9aa7e33a1e28b33e8602b023\n",
      "  Stored in directory: c:\\users\\1\\appdata\\local\\pip\\cache\\wheels\\fa\\14\\e7\\6d2ab90ebde5c246c9472a22a07a07a9eba41aef1e87f980ee\n",
      "Successfully built pyranges ncls sorted-nearest pyrle\n",
      "Installing collected packages: ncls, tabulate, sorted-nearest, pyrle, pyranges\n",
      "Successfully installed ncls-0.0.57 pyranges-0.0.96 pyrle-0.0.32 sorted-nearest-0.0.32 tabulate-0.8.9\n"
     ]
    }
   ],
   "source": [
    "! pip install pyranges"
   ]
  },
  {
   "cell_type": "code",
   "execution_count": 16,
   "metadata": {},
   "outputs": [],
   "source": [
    "import vcf2fhir"
   ]
  },
  {
   "cell_type": "code",
   "execution_count": 20,
   "metadata": {},
   "outputs": [],
   "source": [
    "vcf_fhir_converter = vcf2fhir.Converter('./vcf2fhir/test/vcftests.vcf', 'GRCh37') # no sample.vcf in main folder"
   ]
  },
  {
   "cell_type": "code",
   "execution_count": 21,
   "metadata": {},
   "outputs": [],
   "source": [
    "vcf_fhir_converter.convert()"
   ]
  },
  {
   "cell_type": "code",
   "execution_count": 23,
   "metadata": {},
   "outputs": [
    {
     "data": {
      "text/plain": [
       "<vcf2fhir.converter.Converter at 0x146744a8040>"
      ]
     },
     "execution_count": 23,
     "metadata": {},
     "output_type": "execute_result"
    }
   ],
   "source": [
    "vcf_fhir_converter"
   ]
  },
  {
   "cell_type": "code",
   "execution_count": 24,
   "metadata": {},
   "outputs": [],
   "source": [
    "import logging"
   ]
  },
  {
   "cell_type": "code",
   "execution_count": 25,
   "metadata": {},
   "outputs": [],
   "source": [
    "logger = logging.getLogger('vcf2fhir.invalidrecord')"
   ]
  },
  {
   "cell_type": "code",
   "execution_count": 26,
   "metadata": {},
   "outputs": [],
   "source": [
    "logger.setLevel(logging.DEBUG)"
   ]
  },
  {
   "cell_type": "code",
   "execution_count": 27,
   "metadata": {},
   "outputs": [],
   "source": [
    "ch = logging.FileHandler('invalidrecord.log')"
   ]
  },
  {
   "cell_type": "code",
   "execution_count": 28,
   "metadata": {},
   "outputs": [],
   "source": [
    "ch.setLevel(logging.DEBUG)"
   ]
  },
  {
   "cell_type": "code",
   "execution_count": 29,
   "metadata": {},
   "outputs": [],
   "source": [
    "formatter = logging.Formatter('%(asctime)s - %(name)s - %(levelname)s - %(message)s')"
   ]
  },
  {
   "cell_type": "code",
   "execution_count": 30,
   "metadata": {},
   "outputs": [],
   "source": [
    "# add formatter to ch\n",
    "ch.setFormatter(formatter)"
   ]
  },
  {
   "cell_type": "code",
   "execution_count": 31,
   "metadata": {},
   "outputs": [],
   "source": [
    "# add ch to logger\n",
    "logger.addHandler(ch)"
   ]
  },
  {
   "cell_type": "code",
   "execution_count": null,
   "metadata": {},
   "outputs": [],
   "source": []
  }
 ],
 "metadata": {
  "kernelspec": {
   "display_name": "Python 3",
   "language": "python",
   "name": "python3"
  },
  "language_info": {
   "codemirror_mode": {
    "name": "ipython",
    "version": 3
   },
   "file_extension": ".py",
   "mimetype": "text/x-python",
   "name": "python",
   "nbconvert_exporter": "python",
   "pygments_lexer": "ipython3",
   "version": "3.8.5"
  }
 },
 "nbformat": 4,
 "nbformat_minor": 4
}
